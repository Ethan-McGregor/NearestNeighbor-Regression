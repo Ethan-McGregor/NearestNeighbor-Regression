{
 "cells": [
  {
   "cell_type": "markdown",
   "metadata": {},
   "source": [
    "# Problem Set 3, due May 2 at 11:59am (i.e., noon).\n",
    "\n",
    "### Before You Start\n",
    "\n",
    "Make sure the following libraries load correctly (hit Ctrl-Enter). Note that while you are loading several powerful libraries, including machine learning libraries, the goal of this problem set is to implement several algorithms from scratch. In particular, you should *not* be using any built-in libraries for nearest neighbors, distance metrics, or cross-validation -- your mission is to write those algorithms in Python! Part 1 will be relatively easy; Part 2 will take more time.\n",
    "\n",
    "*Also note:* For this assignment we are requiring you to use base **matplotlib** - not Seaborn or other packages. This will help you become familiar with techniques for maintaining fine-grained control over your data visualizations. It will also help our graders, who spent countless hours trying to make various versions import for grading."
   ]
  },
  {
   "cell_type": "code",
   "execution_count": 1,
   "metadata": {
    "collapsed": false
   },
   "outputs": [],
   "source": [
    "import IPython\n",
    "import numpy as np\n",
    "import scipy as sp\n",
    "import pandas as pd\n",
    "import matplotlib\n",
    "import sklearn"
   ]
  },
  {
   "cell_type": "markdown",
   "metadata": {},
   "source": [
    "---\n",
    "\n",
    "## Introduction to the assignment\n",
    "\n",
    "For this assignment, you will be using the [Boston Housing Prices Data Set](http://archive.ics.uci.edu/ml/datasets/Housing).  Please read about the dataset carefully before continuing.  Use the following commands to load the dataset:\n"
   ]
  },
  {
   "cell_type": "code",
   "execution_count": 2,
   "metadata": {
    "collapsed": false
   },
   "outputs": [],
   "source": [
    "from sklearn.datasets import load_boston\n",
    "bdata = load_boston()"
   ]
  },
  {
   "cell_type": "markdown",
   "metadata": {},
   "source": [
    "---\n",
    "\n",
    "## Part 1: Experimental Setup\n",
    "\n",
    "The goal of the next few sections is to design an experiment to predict the median home value for an instance in the data.\n",
    "Before beginning the \"real\" work, refamiliarize yourself with the dataset."
   ]
  },
  {
   "cell_type": "code",
   "execution_count": 3,
   "metadata": {
    "collapsed": false
   },
   "outputs": [
    {
     "data": {
      "text/plain": [
       "(array([  21.,   55.,   82.,  154.,   84.,   41.,   30.,    8.,   10.,   21.]),\n",
       " array([  5. ,   9.5,  14. ,  18.5,  23. ,  27.5,  32. ,  36.5,  41. ,\n",
       "         45.5,  50. ]),\n",
       " <a list of 10 Patch objects>)"
      ]
     },
     "execution_count": 3,
     "metadata": {},
     "output_type": "execute_result"
    },
    {
     "data": {
      "image/png": "[encoded data removed]",
      "text/plain": [
       "<matplotlib.figure.Figure at 0x8d2ef60>"
      ]
     },
     "metadata": {},
     "output_type": "display_data"
    }
   ],
   "source": [
    "# prepare IPython to work with matplotlib and import the library to something convenient\n",
    "%matplotlib inline  \n",
    "import matplotlib.pyplot as plt  \n",
    "\n",
    "# edit the code below to make the graph look good\n",
    "plt.hist(bdata.target)"
   ]
  },
  {
   "cell_type": "markdown",
   "metadata": {},
   "source": [
    "### 1.1: Scatter plot of housing prices and crime\n",
    "\n",
    "Use matplotlib to create a scatter plot that shows the relationship between the median value of the home (y-axis) and the per-capita crime rate (x-axis).  Properly label your axes, and make sure that your graphic looks polished and professional. No excuses if you don't get it right this time around!\n"
   ]
  },
  {
   "cell_type": "code",
   "execution_count": 4,
   "metadata": {
    "collapsed": false
   },
   "outputs": [
    {
     "data": {
      "image/png": "[encoded data removed]",
      "text/plain": [
       "<matplotlib.figure.Figure at 0x9ba44e0>"
      ]
     },
     "metadata": {},
     "output_type": "display_data"
    }
   ],
   "source": [
    "ax = plt.gca()\n",
    "ax.plot(bdata.data[:,0], bdata.target , '.')\n",
    "ax.axis([0, 100, 0, 55])\n",
    "ax.set_ylabel(\"Median value of homes in $1000's\")\n",
    "ax.set_xlabel(\"Per-capita crime rate \")\n",
    "ax.set_title(\"Crime rate vs Median Housing Price\")\n",
    "ax.yaxis.set_ticks_position('none')\n",
    "ax.xaxis.set_ticks_position('none')\n",
    "ax.set_xlim(-10,100)\n",
    "ax.grid(True) # Add grid by setting to True\n",
    "plt.show()"
   ]
  },
  {
   "cell_type": "markdown",
   "metadata": {},
   "source": [
    "### 1.2 Begin by writing a function to compute the Root Mean Squared Error for a list of numbers\n",
    "\n",
    "You can find the sqrt function in the Numpy package. Furthermore the details of RMSE can be found on [Wikipedia](http://en.wikipedia.org/wiki/Root-mean-square_deviation)\n",
    "\n"
   ]
  },
  {
   "cell_type": "code",
   "execution_count": 5,
   "metadata": {
    "collapsed": false
   },
   "outputs": [
    {
     "name": "stdout",
     "output_type": "stream",
     "text": [
      "2.0817\n"
     ]
    }
   ],
   "source": [
    "from __future__ import division\n",
    "\"\"\"\n",
    "Function\n",
    "--------\n",
    "compute_rmse\n",
    "\n",
    "Given two arrays, one of actual values and one of predicted values,\n",
    "compute the Roote Mean Squared Error\n",
    "\n",
    "Parameters\n",
    "----------\n",
    "predictions : array\n",
    "    Array of numerical values corresponding to predictions for each of the N observations\n",
    "\n",
    "yvalues : array\n",
    "    Array of numerical values corresponding to the actual values for each of the N observations\n",
    "\n",
    "Returns\n",
    "-------\n",
    "rmse : int\n",
    "    Root Mean Squared Error of the prediction\n",
    "\n",
    "Example\n",
    "-------\n",
    ">>> print compute_rmse((2,2,3),(0,2,6)\n",
    "2.16\n",
    "\"\"\"\n",
    "def compute_rmse(predictions, yvalues):\n",
    "    count = 0\n",
    "    sums = 0\n",
    "    rmse = 0\n",
    "    for each in predictions:\n",
    "        sums += (predictions[count] - yvalues[count]) ** 2\n",
    "        count += 1\n",
    "    rmse = np.sqrt(sums / len(predictions))\n",
    "    return round(rmse, 4)\n",
    "\n",
    "print compute_rmse((2,2,3),(0,2,6))"
   ]
  },
  {
   "cell_type": "markdown",
   "metadata": {},
   "source": [
    "### 1.3 Divide your data into training and testing datasets\n",
    "\n",
    "Randomly select 66% of the data and put this in a training dataset (call this \"bdata_train\"), and place the remaining 34% in a testing dataset (call this \"bdata_test\")\n"
   ]
  },
  {
   "cell_type": "code",
   "execution_count": 6,
   "metadata": {
    "collapsed": false
   },
   "outputs": [],
   "source": [
    "import random\n",
    "boston = pd.DataFrame(bdata.data)\n",
    "boston.columns = bdata.feature_names[:]\n",
    "boston['MEDV'] = bdata.target\n",
    "\n",
    "# dataFrame with values that might be used\n",
    "table = pd.DataFrame()\n",
    "table['RM'] = boston['RM']\n",
    "table['CRIM'] = boston['CRIM']\n",
    "table['MEDV'] = boston['MEDV']\n",
    "table['LSTAT'] = boston['LSTAT']\n",
    "table['NOX'] = boston['NOX']\n",
    "table['ZN'] = boston['ZN']\n",
    "table['AGE'] = boston['AGE']\n",
    "table['TAX'] = boston['TAX']\n",
    "table['DIS'] = boston['DIS']\n",
    "\n",
    "\n",
    "table.sort_values(by='CRIM', ascending=False).head(10)\n",
    "\n",
    "#randomly sort the rows in the table.\n",
    "table.reindex(np.random.permutation(table.index))\n",
    "\n",
    "#take the first 66% of the rows in the table\n",
    "bdata_train = table[:int(len(table)*0.66)]\n",
    "\n",
    "#take the remaning 34%\n",
    "bdata_test = table[len(bdata_train):]\n",
    "\n",
    "#make the indices in the test data start at 0 \n",
    "bdata_test.index = np.arange(0, len(bdata_test))\n"
   ]
  },
  {
   "cell_type": "markdown",
   "metadata": {},
   "source": [
    "### 1.4 Use a very bad baseline for prediction, and compute RMSE\n",
    "\n",
    "Create a model that predicts, for every observation x_i, that the median home value is the average (mean) of the median values for all instances in the training set.  Compute the RMSE on the training set.  Now compute the RMSE on the test data set (but use the model you trained on the training set!).  How does RMSE compare for training vs. testing datasets? Is this what you expected, and why?"
   ]
  },
  {
   "cell_type": "code",
   "execution_count": 7,
   "metadata": {
    "collapsed": false
   },
   "outputs": [
    {
     "name": "stdout",
     "output_type": "stream",
     "text": [
      "8.5841\n",
      "8.0133\n"
     ]
    }
   ],
   "source": [
    "#RMSE for training set\n",
    "means = [np.mean(bdata_train['MEDV'])] * len(bdata_train)                 \n",
    "print compute_rmse(means, bdata_train['MEDV'])\n",
    "\n",
    "test = []\n",
    "for each in bdata_test['MEDV']:\n",
    "    test.append(each)\n",
    "    \n",
    "#RMSE for test set\n",
    "means = [np.mean(test)] * len(test)\n",
    "print compute_rmse(means, test)\n",
    "\n",
    "### RMSE for Train is 8.5\n",
    "### RMSE  for Test is 8.01"
   ]
  },
  {
   "cell_type": "markdown",
   "metadata": {},
   "source": [
    "The RMSE was higher for the training set. I would asume that the testing set would have a higher RMSE becasue there is less data for it to even out. But maybe the testing set just happened to get some numbers that were closer together in distance. "
   ]
  },
  {
   "cell_type": "markdown",
   "metadata": {},
   "source": [
    "---\n",
    "\n",
    "## Part 2: Nearest Neighbors\n"
   ]
  },
  {
   "cell_type": "markdown",
   "metadata": {},
   "source": [
    "### 2.1 Nearest Neighbors: Distance function\n",
    "Let's try and build a machine learning algorithm to beat the \"Average Value\" baseline that you computed above.  Soon you will implement the Nearest Neighbor algorithm, but first you need to create a distance metric to measure the distance (and similarity) between two instances.  Write a generic function to compute the L-Norm distance (called the [*p*-norm](http://en.wikipedia.org/wiki/Norm_(mathematics) distance on Wikipedia). Verify that your function works by computing the Euclidean distance between the points (3,4) and (6,8)."
   ]
  },
  {
   "cell_type": "code",
   "execution_count": 8,
   "metadata": {
    "collapsed": false
   },
   "outputs": [
    {
     "name": "stdout",
     "output_type": "stream",
     "text": [
      "5.0\n"
     ]
    }
   ],
   "source": [
    "\"\"\"\n",
    "Function\n",
    "--------\n",
    "distance\n",
    "\n",
    "Given two instances and a value for L, return the L-Norm distance between them\n",
    "\n",
    "Parameters\n",
    "----------\n",
    "x1, x2 : array\n",
    "    Array of numerical values corresponding to predictions for each of the N observations\n",
    "\n",
    "L: int\n",
    "    Value of L to use in computing distances\n",
    "\n",
    "Returns\n",
    "-------\n",
    "dist : int\n",
    "    The L-norm distance between instances\n",
    "\n",
    "Example\n",
    "-------\n",
    ">>> print distance((3,4),(6,8),2)\n",
    "5.0\n",
    "\n",
    "\"\"\"\n",
    "x1 = [3,4]\n",
    "x2 = [6,8]\n",
    "L = 2\n",
    "def distance(x1, x2, L):\n",
    "    count = 0\n",
    "    dist = 0\n",
    "\n",
    "    for i in x1:\n",
    "        dist += abs(x1[count] - x2[count]) ** L\n",
    "        count += 1\n",
    "    return dist ** (1 / L)\n",
    "\n",
    "print distance(x1,x2,L)\n",
    "\n",
    "### Distance = 5.0"
   ]
  },
  {
   "cell_type": "markdown",
   "metadata": {},
   "source": [
    "### 2.2 Basic Nearest Neighbor algorithm\n",
    "\n",
    "Now things get fun.  Your task is to implement a basic nearest neighbor algorithm from scratch.  Your simple model will use two input features (CRIM and RM) and a single output (MEDV).  In other words, you are modelling the relationship between median home value and crime rates and house size.\n",
    "\n",
    "Use your training data (bdata_train) to \"fit\" your model, although as you know, with Nearest Neighbors there is no real training, you just need to keep your training data in memory.  Write a function that predicts, for each instance in the testing data (bdata_test), the median home value using the nearest neighbor algorithm we discussed in class.  Since this is a small dataset, you can simply compare your test instance to every instance in the training set, and return the MEDV value of the closest training instance.  Have your function take L as an input, where L is passed to the distance function.\n",
    "\n",
    "Compute the RMSE for the Nearest Neighbor predictions on the test set, using the Euclidean distance.  Report an estimate of the total time taken by your code to predict the nearest neighbors for all the values in the test data set."
   ]
  },
  {
   "cell_type": "code",
   "execution_count": 9,
   "metadata": {
    "collapsed": false
   },
   "outputs": [
    {
     "name": "stdout",
     "output_type": "stream",
     "text": [
      "Time taken: 1.22 seconds\n",
      "8.1575\n"
     ]
    }
   ],
   "source": [
    "\"\"\"\n",
    "Function\n",
    "--------\n",
    "nneighbor\n",
    "\n",
    "Given a traning set and testing set as well as features to use and L-distance will find nerest neighbor for each point\n",
    "\n",
    "Parameters\n",
    "----------\n",
    "bdata_train, bdata_test : dataFrame\n",
    "    dataFrame with features and data fro them\n",
    "\n",
    "L: int\n",
    "    Value of L to use in computing distances\n",
    "\n",
    "Returns\n",
    "-------\n",
    "features : array\n",
    "   array of features to use from dataFrame\n",
    "   \n",
    "L: int\n",
    "    L is used in the distance function\n",
    "\n",
    "Example\n",
    "-------\n",
    ">>> print nneighbor(bdata_train,bdata_test,features,2)\n",
    "Time taken: 1.14 seconds\n",
    "8.1575\n",
    "\n",
    "\"\"\"\n",
    "import time\n",
    "def nneighbor(bdata_train,bdata_test,features,L):\n",
    "    start_time = time.time()\n",
    "    predictions = []\n",
    "    countTest = 0\n",
    "    countTrain = 0\n",
    "    for each in bdata_test['MEDV']:\n",
    "        dist = []\n",
    "        x1 = []\n",
    "        x2 = []\n",
    "        smallest = []\n",
    "        \n",
    "        for each in features:\n",
    "            x2.append(bdata_test[each][countTest])\n",
    "            \n",
    "        while countTrain < 333:\n",
    "            for each in features:\n",
    "                x1.append(bdata_train[each][countTrain])\n",
    "            dist.append(distance(x1,x2,L))\n",
    "            x1 = []\n",
    "            countTrain += 1 \n",
    "            \n",
    "        predictions.append(bdata_train['MEDV'][dist.index(min(dist))])\n",
    "        countTest += 1\n",
    "        x2 = [] \n",
    "        smallest = 0\n",
    "        dist = []\n",
    "        countTrain = 0\n",
    "    print \"Time taken: \" + str(round(time.time() - start_time,2)) + \" seconds\"\n",
    "    return  compute_rmse(predictions, bdata_test['MEDV'])\n",
    "features = ['CRIM','RM']\n",
    "print nneighbor(bdata_train,bdata_test,features,2)\n",
    "\n",
    "### RMSE is 8.157"
   ]
  },
  {
   "cell_type": "markdown",
   "metadata": {},
   "source": [
    "### 2.3 Results and Normalization\n",
    "\n",
    "If you were being astute, you would have noticed that we never normalized our features -- a big no-no with Nearest Neighbor algorithms.  Write a generic normalization function that takes as input an array of values for a given feature, and returns the normalized array (subtract the mean and divide by the standard deviation).\n",
    "\n",
    "Re-run the Nearest Neighbor algorithm on the normalized dataset (still just using CRIM and RM as input), and compare the RMSE from this method with your previous RMSE evaluations.\n",
    "\n",
    "*NOTE*: To normalize properly, best practice is to compute the mean and standard deviation on the training set, and use these values to normalize the testing dataset. However, for this problem set, it is okay if you separately normalize each dataset using the respective mean and standard deviation."
   ]
  },
  {
   "cell_type": "code",
   "execution_count": 10,
   "metadata": {
    "collapsed": false
   },
   "outputs": [
    {
     "name": "stdout",
     "output_type": "stream",
     "text": [
      "Time taken: 1.1 seconds\n",
      "1.1247\n"
     ]
    },
    {
     "name": "stderr",
     "output_type": "stream",
     "text": [
      "C:\\Users\\ermmc\\Anaconda2\\lib\\site-packages\\pandas\\core\\indexing.py:508: SettingWithCopyWarning: \n",
      "A value is trying to be set on a copy of a slice from a DataFrame.\n",
      "Try using .loc[row_indexer,col_indexer] = value instead\n",
      "\n",
      "See the caveats in the documentation: http://pandas.pydata.org/pandas-docs/stable/indexing.html#indexing-view-versus-copy\n",
      "  self.obj[item_labels[indexer[info_axis]]] = value\n"
     ]
    }
   ],
   "source": [
    "\"\"\"\n",
    "function\n",
    "-------\n",
    "normalize\n",
    "    givin data it will normalize it\n",
    "--------\n",
    "paramater\n",
    "    RAW_DATA\n",
    "    data to be normalized\n",
    "-----\n",
    "returns\n",
    "    normalized data array\n",
    "\"\"\"\n",
    "def normalize(raw_data):\n",
    "    normalized_data = []\n",
    "    for each in raw_data:\n",
    "        normalized_data.append((each - np.mean(raw_data)) / np.std(raw_data))\n",
    "    \n",
    "    return normalized_data\n",
    "\n",
    "# normalizing all features we want to use\n",
    "bdata_train.loc[:,'MEDV'] = normalize(bdata_train['MEDV'])\n",
    "bdata_train.loc[:,'CRIM'] = normalize(bdata_train['CRIM'])\n",
    "bdata_train.loc[:,'RM'] = normalize(bdata_train['RM'])\n",
    "bdata_test.loc[:,'MEDV'] = normalize(bdata_test['MEDV'])\n",
    "bdata_test.loc[:,'CRIM'] = normalize(bdata_test['CRIM'])\n",
    "bdata_test.loc[:,'RM'] = normalize(bdata_test['RM'])\n",
    "\n",
    "bdata_train.loc[:,'LSTAT'] = normalize(bdata_train['LSTAT'])\n",
    "bdata_train.loc[:,'NOX'] = normalize(bdata_train['NOX'])\n",
    "bdata_test.loc[:,'LSTAT'] = normalize(bdata_test['LSTAT'])\n",
    "bdata_test.loc[:,'NOX'] = normalize(bdata_test['NOX'])\n",
    "\n",
    "bdata_train.loc[:,'ZN'] = normalize(bdata_train['ZN'])\n",
    "bdata_train.loc[:,'AGE'] = normalize(bdata_train['AGE'])\n",
    "bdata_test.loc[:,'ZN'] = normalize(bdata_test['ZN'])\n",
    "bdata_test.loc[:,'AGE'] = normalize(bdata_test['AGE'])\n",
    "\n",
    "bdata_train.loc[:,'DIS'] = normalize(bdata_train['DIS'])\n",
    "bdata_train.loc[:,'TAX'] = normalize(bdata_train['TAX'])\n",
    "bdata_test.loc[:,'DIS'] = normalize(bdata_test['DIS'])\n",
    "bdata_test.loc[:,'TAX'] = normalize(bdata_test['TAX'])\n",
    "\n",
    "# re-run after normalization\n",
    "print nneighbor(bdata_train,bdata_test,features,2)\n",
    "\n",
    "### RMSE is 1.05"
   ]
  },
  {
   "cell_type": "markdown",
   "metadata": {},
   "source": [
    "Once the data is normalized the RMSE drops from over 8 to just about 1"
   ]
  },
  {
   "cell_type": "markdown",
   "metadata": {},
   "source": [
    "### 2.4 Optimization\n",
    "\n",
    "A lot of the decisions we've made so far have been arbitrary.  Try to increase the performance of your nearest neighbor algorithm by adding features that you think might be relevant, and by using different values of L in the distance function.  Try a model that uses a different set of 2 features, then try at least one model that uses more than 4 features, then try using a different value of L.  If you're having fun, try a few different combinations of features and L!\n",
    "\n",
    "What combination of features and distance function provide the lowest RMSE?  Do your decisions affect the running time of the algorithm?"
   ]
  },
  {
   "cell_type": "code",
   "execution_count": 11,
   "metadata": {
    "collapsed": false
   },
   "outputs": [
    {
     "name": "stdout",
     "output_type": "stream",
     "text": [
      "Time taken: 1.11 seconds\n",
      "original: 1.1247\n",
      "\n",
      "Time taken: 1.05 seconds\n",
      "original with L of 3: 1.1324\n",
      "\n",
      "Time taken: 1.1 seconds\n",
      "New features: 1.0015\n",
      "\n",
      "Time taken: 1.09 seconds\n",
      "New features with L of 3: 1.0037\n",
      "\n",
      "Time taken: 2.14 seconds\n",
      "old and new features: 0.9468\n",
      "\n",
      "Time taken: 2.16 seconds\n",
      "old and new features with L of 3: 0.9346\n"
     ]
    }
   ],
   "source": [
    "# features are the variables to be used next time nneighbor is used\n",
    "features = ['CRIM','RM']\n",
    "print 'original: ' + str(nneighbor(bdata_train,bdata_test,features,2))\n",
    "print ''\n",
    "print 'original with L of 3: ' + str(nneighbor(bdata_train,bdata_test,features,3))\n",
    "print ''\n",
    "\n",
    "features = ['LSTAT','NOX']\n",
    "print 'New features: ' + str( nneighbor(bdata_train,bdata_test,features,2))\n",
    "print ''\n",
    "print 'New features with L of 3: ' + str( nneighbor(bdata_train,bdata_test,features,3))\n",
    "print ''\n",
    "\n",
    "features = ['CRIM','RM','LSTAT','NOX']\n",
    "print 'old and new features: ' + str(nneighbor(bdata_train,bdata_test,features,2))\n",
    "print ''\n",
    "print 'old and new features with L of 3: ' + str(nneighbor(bdata_train,bdata_test,features,3))"
   ]
  },
  {
   "cell_type": "markdown",
   "metadata": {},
   "source": [
    "changing the featurns made it better, but it was even better when the features were added to the original ones and the L distance was changed to 3!"
   ]
  },
  {
   "cell_type": "markdown",
   "metadata": {},
   "source": [
    "### 2.5 Cross-Validation\n",
    "\n",
    "The more you tinkered with your features and distance function, the higher the risk that you overfit your training data.  To prevent this sort of overfitting, you need to use cross-validation (see K-fold [cross-validation](http://en.wikipedia.org/wiki/Cross-validation_(statistics)).  Here you must implement a simple k-fold cross-validation algorithm yourself.  The function you write here will be used several more times in this problem set, so do your best to write efficient code! (Note that the sklearn package has a built-in [K-fold](http://scikit-learn.org/stable/modules/cross_validation.html#cross-validation) iterator -- you should *not* be invoking that or any related algorithms in this section of the problem set.)\n",
    "\n",
    "Use 10-fold cross-validation and report the average RMSE for Nearest Neighbors using Euclidean distance with CRIM and RM input features, as well as the total running time for the full run of 10 folds.  In other words, randomly divide your dataset into 10 equally-sized samples, and for each of 10 iterations (the \"folds\"), use 9 samples as \"training data\" (even though there is no training in k-NN!), and the remaining 1 sample for testing.  Compute the RMSE of that particular test set, then move on to the next iteration.  Report the average RMSE across the 10 iterations."
   ]
  },
  {
   "cell_type": "code",
   "execution_count": 12,
   "metadata": {
    "collapsed": false
   },
   "outputs": [
    {
     "name": "stdout",
     "output_type": "stream",
     "text": [
      "Time taken: 0.36 seconds\n",
      "Time taken: 0.3 seconds\n",
      "Time taken: 0.32 seconds\n",
      "Time taken: 0.32 seconds\n",
      "Time taken: 0.31 seconds\n",
      "Time taken: 0.31 seconds\n",
      "Time taken: 0.33 seconds\n",
      "Time taken: 0.32 seconds\n",
      "Time taken: 0.38 seconds\n",
      "Time taken: 0.3 seconds\n",
      "Time taken for 10 folds: 3.28 seconds\n"
     ]
    },
    {
     "data": {
      "text/plain": [
       "0.6491111111111112"
      ]
     },
     "execution_count": 12,
     "metadata": {},
     "output_type": "execute_result"
    }
   ],
   "source": [
    "import random\n",
    "features = ['CRIM','RM']\n",
    "table.reindex(np.random.permutation(table.index))\n",
    "test = table[:int(len(table)*0.1)]\n",
    "train = table[len(test):]\n",
    "train.index = np.arange(0, len(train))\n",
    "\n",
    "\n",
    "def kcross(train,test,K,L,cross_val):\n",
    "    start_time = time.time()\n",
    "    split = lambda lst, sz: [lst[i:i+sz] for i in range(0, len(lst), sz)]\n",
    "\n",
    "    avgRMSE = 0\n",
    "    \n",
    "    for each in split(train,int(len(train )/ 9)):\n",
    "        if cross_val:\n",
    "            avgRMSE += knn(train,test,features,K,L)\n",
    "        else:\n",
    "             avgRMSE += nneighbor(train,test,features,L)\n",
    "    print \"Time taken for 10 folds: \" + str(round(time.time() - start_time,2)) + \" seconds\"   \n",
    "    return (avgRMSE / 9)\n",
    "\n",
    "kcross(train,test,3,2,False)\n",
    "\n",
    "#NOTE: cross_val is to determine which nearest neighbors algorithim we are using. The one that takes in K or not\n",
    "\n",
    "### RMSE is 0.6491"
   ]
  },
  {
   "cell_type": "markdown",
   "metadata": {},
   "source": [
    "### 2.6 K-Nearest Neighbors Algorithm\n",
    "\n",
    "Implement the K-Nearest Neighbors algorithm.  Using 10-fold cross validation, report the RMSE for K=3 and the running time of the algorithm."
   ]
  },
  {
   "cell_type": "code",
   "execution_count": null,
   "metadata": {
    "collapsed": false
   },
   "outputs": [
    {
     "name": "stdout",
     "output_type": "stream",
     "text": [
      "Time taken for 10 folds: 3.58 seconds\n",
      "0.611666666667\n"
     ]
    }
   ],
   "source": [
    "\"\"\"\n",
    "Function\n",
    "--------\n",
    "knn\n",
    "\n",
    "Given a normalized traning set and testing set as well as features to use and K and L-distance will find nerest neighbor for each point\n",
    "with k-Cross validation\n",
    "\n",
    "Parameters\n",
    "----------\n",
    "bdata_train, bdata_test : dataFrame\n",
    "    dataFrame with features and data from them\n",
    "\n",
    "L: int\n",
    "    Value of L to use in computing distances\n",
    "K: int \n",
    "    number of nearest neighbors we find\n",
    "\n",
    "Returns\n",
    "-------\n",
    "RMSE: float\n",
    "    root mean squared error for knn\n",
    "\n",
    "Example\n",
    "-------\n",
    ">>> print nneighbor(bdata_train,bdata_test,features,3,2)\n",
    "Time taken: 1.14 seconds\n",
    "1.02\n",
    "\n",
    "\"\"\"\n",
    "\n",
    "def smallDist(k,dist):\n",
    "    \n",
    "    count = 0\n",
    "    smallest = []\n",
    "    while count < k:\n",
    "        smallest.append(dist.index(min(dist)))\n",
    "        dist[dist.index(min(dist))] = 10000000\n",
    "        count += 1\n",
    "    return smallest\n",
    "\n",
    "def knn(bdata_train,bdata_test,features,K, L):\n",
    "    \n",
    "    predictions = []\n",
    "    countTest = 0\n",
    "    countTrain = 0\n",
    "    for each in bdata_test['MEDV']:\n",
    "        dist = []\n",
    "        x1 = []\n",
    "        x2 = []\n",
    "        smallest = []\n",
    "        for each in features:\n",
    "            x2.append(bdata_test[each][countTest])\n",
    "\n",
    "        while countTrain < 333:\n",
    "            for each in features:\n",
    "                x1.append(bdata_train[each][countTrain])\n",
    "\n",
    "            dist.append(distance(x1,x2,L))\n",
    "            x1 = []\n",
    "            countTrain += 1 \n",
    "        \n",
    "        smallest = smallDist(K,dist)\n",
    "        avgMEDV = 0\n",
    "        \n",
    "        for each in smallest:\n",
    "            avgMEDV += bdata_train['MEDV'][each]\n",
    "        predictions.append(avgMEDV / len(smallest))\n",
    "        x2 = []  \n",
    "        countTest += 1\n",
    "        smallest = 0\n",
    "        dist = []\n",
    "        countTrain = 0\n",
    "    \n",
    "    return  compute_rmse(predictions, bdata_test['MEDV'])\n",
    "\n",
    "\n",
    "features = ['CRIM','RM']\n",
    "\n",
    "print kcross(train,test,3,2,True)\n",
    "\n",
    "### RMSE is 0.6116"
   ]
  },
  {
   "cell_type": "markdown",
   "metadata": {},
   "source": [
    "### 2.7 Using cross validation to find K\n",
    "\n",
    "What is the best choice of K?  Compute the RMSE for values of K between 1 and 25 using 10-fold cross-validation.  Use the following features in your model, and don't forget to normalize: CRIM, ZN, RM, AGE, DIS, TAX.  Create a graph that shows how RMSE changes as K increases from 1 to 25.  Label your axes, and summarize what you see.  What do you think is a reasonable choice of K for this model?"
   ]
  },
  {
   "cell_type": "code",
   "execution_count": null,
   "metadata": {
    "collapsed": false
   },
   "outputs": [
    {
     "name": "stdout",
     "output_type": "stream",
     "text": [
      "Time taken for 10 folds: 8.95 seconds\n",
      "Time taken for 10 folds: 8.65 seconds\n",
      "Time taken for 10 folds: 8.67 seconds\n",
      "Time taken for 10 folds: 8.67 seconds\n",
      "Time taken for 10 folds: 8.67 seconds\n",
      "Time taken for 10 folds: 8.63 seconds\n",
      "Time taken for 10 folds: 8.78 seconds\n",
      "Time taken for 10 folds: 8.75 seconds\n",
      "Time taken for 10 folds: 8.64 seconds\n",
      "Time taken for 10 folds: 8.9 seconds"
     ]
    }
   ],
   "source": [
    "features = ['CRIM', 'ZN', 'RM', 'AGE', 'DIS', 'TAX']\n",
    "count = 1\n",
    "rmse = []\n",
    "while count <= 25:\n",
    "    rmse.append(kcross(train,test,count,2,True))\n",
    "    count += 1"
   ]
  },
  {
   "cell_type": "code",
   "execution_count": null,
   "metadata": {
    "collapsed": false
   },
   "outputs": [],
   "source": [
    "\n",
    "ax = plt.gca()\n",
    "ax.plot(range(0,25),rmse)\n",
    "\n",
    "ax.set_ylabel(\"RMSE after cross-fold\")\n",
    "ax.set_xlabel(\"K-folds\")\n",
    "ax.set_title(\"RMSE vs K value\")\n",
    "ax.yaxis.set_ticks_position('none')\n",
    "ax.xaxis.set_ticks_position('none')\n",
    "ax.set_xlim(-5,30)\n",
    "ax.grid(True) # Add grid by setting to True\n",
    "plt.show()"
   ]
  },
  {
   "cell_type": "markdown",
   "metadata": {},
   "source": [
    "It is interesting that RMSE goes down, then up, then down agian then shoots back up. I would think there would only be one dip down as K goes up. However the optimal value for K is 3. "
   ]
  },
  {
   "cell_type": "markdown",
   "metadata": {},
   "source": [
    "### Extra-Credit: Forward selection\n",
    "\n",
    "Thus far the choice of predictor variables has been rather arbitrary. For extra credit, implement a basic [forward selection](http://www.stat.ubc.ca/~rollin/teach/643w04/lec/node41.html) algorithm to progressively include features that decrease the cross-validated RMSE of the model. Note that the optimal value of K may be different for each model, so you may want to use cross-validation to choose K each time (but it is also fine if you fix K at the optimal value from 2.7).  Create a graph that shows RMSE as a function of the number of features in the model. Label each point on the x-axis with the name of the feature that is added at that step in the forward selection algorithm. *(For instance, if the optimal single-feature model has CRIM with RMSE = 10, and the optimal two-feature model has CRIM+ZN with RMSE=9, the first x-axis label will say CRIM and the second x-axis lable with say ZN)*"
   ]
  }
 ],
 "metadata": {
  "kernelspec": {
   "display_name": "Python 2",
   "language": "python",
   "name": "python2"
  },
  "language_info": {
   "codemirror_mode": {
    "name": "ipython",
    "version": 2
   },
   "file_extension": ".py",
   "mimetype": "text/x-python",
   "name": "python",
   "nbconvert_exporter": "python",
   "pygments_lexer": "ipython2",
   "version": "2.7.11"
  }
 },
 "nbformat": 4,
 "nbformat_minor": 0
}
